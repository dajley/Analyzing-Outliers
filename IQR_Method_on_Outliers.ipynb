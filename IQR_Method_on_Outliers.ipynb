{
  "nbformat": 4,
  "nbformat_minor": 0,
  "metadata": {
    "colab": {
      "provenance": [],
      "mount_file_id": "1bgZQLxIDucAVpj4kE1VBWDVJe_gcFckb",
      "authorship_tag": "ABX9TyNHRfG8C/Rcew7KiKafxfzl",
      "include_colab_link": true
    },
    "kernelspec": {
      "name": "python3",
      "display_name": "Python 3"
    },
    "language_info": {
      "name": "python"
    }
  },
  "cells": [
    {
      "cell_type": "markdown",
      "metadata": {
        "id": "view-in-github",
        "colab_type": "text"
      },
      "source": [
        "<a href=\"https://colab.research.google.com/github/dajley/Analyzing-Outliers/blob/main/IQR_Method_on_Outliers.ipynb\" target=\"_parent\"><img src=\"https://colab.research.google.com/assets/colab-badge.svg\" alt=\"Open In Colab\"/></a>"
      ]
    },
    {
      "cell_type": "code",
      "source": [
        "import pandas as pd\n",
        "\n",
        "# Load dataset\n",
        "df = pd.read_csv('/content/drive/MyDrive/Datasets/Combined County Data Cleansed.csv')\n",
        "\n",
        "# Make a copy for comparison later\n",
        "df_original = df.copy()\n",
        "\n",
        "# Dictionary to store outlier counts\n",
        "outlier_counts = {}\n",
        "\n",
        "# Function to replace outliers with median using IQR method\n",
        "def handle_outliers_iqr(dataframe):\n",
        "    numeric_cols = dataframe.select_dtypes(include=['number']).columns\n",
        "\n",
        "    for col in numeric_cols:\n",
        "        Q1 = dataframe[col].quantile(0.25)\n",
        "        Q3 = dataframe[col].quantile(0.75)\n",
        "        IQR = Q3 - Q1\n",
        "        lower_bound = Q1 - 1.5 * IQR\n",
        "        upper_bound = Q3 + 1.5 * IQR\n",
        "\n",
        "        median = dataframe[col].median()\n",
        "\n",
        "        # Detect outliers\n",
        "        outliers = (dataframe[col] < lower_bound) | (dataframe[col] > upper_bound)\n",
        "        outlier_count = outliers.sum()\n",
        "        outlier_counts[col] = outlier_count\n",
        "\n",
        "        # Replace outliers with the median\n",
        "        dataframe.loc[outliers, col] = median\n",
        "\n",
        "    return dataframe\n",
        "\n",
        "# Apply the function\n",
        "df_cleaned = handle_outliers_iqr(df)\n",
        "\n",
        "# Compare statistics\n",
        "numeric_cols = df.select_dtypes(include=['number']).columns\n",
        "\n",
        "print(\"\\n--- Outlier Replacement Summary ---\")\n",
        "for col in numeric_cols:\n",
        "    print(f\"{col}: {outlier_counts[col]} outliers replaced\")\n",
        "\n",
        "print(\"\\n--- Statistical Summary Before vs After ---\")\n",
        "summary_before = df_original[numeric_cols].describe().T[['mean', '50%', 'std']].rename(columns={'50%': 'median'})\n",
        "summary_after = df_cleaned[numeric_cols].describe().T[['mean', '50%', 'std']].rename(columns={'50%': 'median'})\n",
        "\n",
        "comparison = pd.concat([summary_before.add_suffix('_before'), summary_after.add_suffix('_after')], axis=1)\n",
        "print(comparison)\n",
        "\n",
        "# Optionally save the cleaned dataset\n",
        "df_cleaned.to_csv('df_iqr.csv', index=False)\n"
      ],
      "metadata": {
        "colab": {
          "base_uri": "https://localhost:8080/"
        },
        "id": "Bzm-Pf0fKSWM",
        "outputId": "3698aa80-9ee0-45ba-fa4c-2065cfceb41b"
      },
      "execution_count": 2,
      "outputs": [
        {
          "output_type": "stream",
          "name": "stdout",
          "text": [
            "\n",
            "--- Outlier Replacement Summary ---\n",
            "Value: 0 outliers replaced\n",
            "Avg Max Temp: 0 outliers replaced\n",
            "Avg Min Temp: 0 outliers replaced\n",
            "Avg Temp: 0 outliers replaced\n",
            "Avg Bare Soil Temp: 0 outliers replaced\n",
            "Avg Turf Soil Temp: 0 outliers replaced\n",
            "Avg Wind Speed: 7 outliers replaced\n",
            "Avg Max Wind Speed: 10 outliers replaced\n",
            "Total Solar Rad: 0 outliers replaced\n",
            "Avg Penman PET: 0 outliers replaced\n",
            "Total Penman PET: 0 outliers replaced\n",
            "Total Rainfall: 5 outliers replaced\n",
            "Avg Dew Point: 3 outliers replaced\n",
            "Avg Wind Chill: 0 outliers replaced\n",
            "\n",
            "--- Statistical Summary Before vs After ---\n",
            "                    mean_before  median_before  std_before  mean_after  \\\n",
            "Value                 94.711538       92.45000   35.748752   94.711538   \n",
            "Avg Max Temp          59.099552       59.88125    3.773902   59.099552   \n",
            "Avg Min Temp          35.918376       35.96275    2.773045   35.918376   \n",
            "Avg Temp              47.506944       47.67100    3.045846   47.506944   \n",
            "Avg Bare Soil Temp    49.042607       49.11500    3.455934   49.042607   \n",
            "Avg Turf Soil Temp    46.393213       46.56525    4.063401   46.393213   \n",
            "Avg Wind Speed         9.866484        9.87150    1.259208    9.776708   \n",
            "Avg Max Wind Speed    25.079365       25.14925    2.396947   25.087304   \n",
            "Total Solar Rad      448.886152      446.89700   32.467450  448.886152   \n",
            "Avg Penman PET         0.198280        0.20225    0.027049    0.198280   \n",
            "Total Penman PET       6.067767        6.16825    0.827335    6.067767   \n",
            "Total Rainfall         1.883360        1.70725    1.055247    1.821319   \n",
            "Avg Dew Point         34.407533       34.65150    3.096325   34.436572   \n",
            "Avg Wind Chill        43.819885       44.31875    3.926210   43.819885   \n",
            "\n",
            "                    median_after  std_after  \n",
            "Value                  92.450000  35.748752  \n",
            "Avg Max Temp           59.881250   3.773902  \n",
            "Avg Min Temp           35.962750   2.773045  \n",
            "Avg Temp               47.671000   3.045846  \n",
            "Avg Bare Soil Temp     49.115000   3.455934  \n",
            "Avg Turf Soil Temp     46.565250   4.063401  \n",
            "Avg Wind Speed          9.868750   1.113860  \n",
            "Avg Max Wind Speed     25.149250   1.961246  \n",
            "Total Solar Rad       446.897000  32.467450  \n",
            "Avg Penman PET          0.202250   0.027049  \n",
            "Total Penman PET        6.168250   0.827335  \n",
            "Total Rainfall          1.701125   0.952179  \n",
            "Avg Dew Point          34.651500   2.996151  \n",
            "Avg Wind Chill         44.318750   3.926210  \n"
          ]
        }
      ]
    },
    {
      "cell_type": "code",
      "metadata": {
        "colab": {
          "base_uri": "https://localhost:8080/",
          "height": 1000
        },
        "id": "HZ32s3_vO01G",
        "outputId": "908e5e4f-451d-4d67-d303-b798097065f3"
      },
      "source": [
        "import matplotlib.pyplot as plt\n",
        "import seaborn as sns\n",
        "\n",
        "# Select only the numeric columns from the cleaned dataframe\n",
        "numeric_cols_cleaned = df_cleaned.select_dtypes(include=['number']).columns\n",
        "\n",
        "# Filter columns that had outliers replaced\n",
        "cols_with_outliers = [col for col, count in outlier_counts.items() if count > 0]\n",
        "\n",
        "# Create boxplots for each numeric column that had outliers\n",
        "plt.figure(figsize=(10, 10))\n",
        "for i, col in enumerate(cols_with_outliers):\n",
        "    plt.subplot(2, 2, i + 1) # Adjusted subplot grid based on the number of columns with outliers\n",
        "    sns.boxplot(y=df_cleaned[col])\n",
        "    plt.title(f'Boxplot of {col} (After Outlier Replacement)')\n",
        "    plt.ylabel('')\n",
        "plt.tight_layout()\n",
        "plt.show()"
      ],
      "execution_count": 3,
      "outputs": [
        {
          "output_type": "display_data",
          "data": {
            "text/plain": [
              "<Figure size 1000x1000 with 4 Axes>"
            ],
            "image/png": "[encoded data removed]"
          },
          "metadata": {}
        }
      ]
    },
    {
      "cell_type": "code",
      "source": [
        "# Access multiple values by integer position using .iloc\n",
        "print(df_original['Avg Wind Speed'].iloc[[45, 49, 53, 57, 83, 92, 251]])"
      ],
      "metadata": {
        "colab": {
          "base_uri": "https://localhost:8080/"
        },
        "id": "sy2HAKnoT-v2",
        "outputId": "3c470773-3897-472f-896e-48a3a1f07bc5"
      },
      "execution_count": 14,
      "outputs": [
        {
          "output_type": "stream",
          "name": "stdout",
          "text": [
            "45     13.2530\n",
            "49     13.2530\n",
            "53     13.2530\n",
            "57     13.2530\n",
            "83     14.4415\n",
            "92     14.1025\n",
            "251    13.2205\n",
            "Name: Avg Wind Speed, dtype: float64\n"
          ]
        }
      ]
    },
    {
      "cell_type": "code",
      "source": [
        "print(df_cleaned['Avg Wind Speed'].iloc[[45, 49, 53, 57, 83, 92, 251]])"
      ],
      "metadata": {
        "colab": {
          "base_uri": "https://localhost:8080/"
        },
        "id": "Ej2rIbBlUA-9",
        "outputId": "65c9d866-0210-43eb-ee60-38ecf7b4f13f"
      },
      "execution_count": 15,
      "outputs": [
        {
          "output_type": "stream",
          "name": "stdout",
          "text": [
            "45     9.8715\n",
            "49     9.8715\n",
            "53     9.8715\n",
            "57     9.8715\n",
            "83     9.8715\n",
            "92     9.8715\n",
            "251    9.8715\n",
            "Name: Avg Wind Speed, dtype: float64\n"
          ]
        }
      ]
    },
    {
      "cell_type": "code",
      "source": [
        "print(df_original['Avg Max Wind Speed'].iloc[[83, 122, 146, 152, 177, 183, 215, 216, 217, 251]])"
      ],
      "metadata": {
        "colab": {
          "base_uri": "https://localhost:8080/"
        },
        "id": "Z1lR-0bGdHkn",
        "outputId": "81ad9cad-14d4-4f37-a164-04fb9d966d2c"
      },
      "execution_count": 16,
      "outputs": [
        {
          "output_type": "stream",
          "name": "stdout",
          "text": [
            "83     31.8685\n",
            "122    18.3790\n",
            "146    36.0010\n",
            "152    19.1055\n",
            "177    36.0010\n",
            "183    19.1055\n",
            "215    19.3555\n",
            "216    19.2625\n",
            "217    19.0020\n",
            "251    31.1415\n",
            "Name: Avg Max Wind Speed, dtype: float64\n"
          ]
        }
      ]
    },
    {
      "cell_type": "code",
      "source": [
        "print(df_cleaned['Avg Max Wind Speed'].iloc[[83, 122, 146, 152, 177, 183, 215, 216, 217, 251]])"
      ],
      "metadata": {
        "colab": {
          "base_uri": "https://localhost:8080/"
        },
        "id": "WkqLWU3Fdb4A",
        "outputId": "4b5661bb-49ba-481b-dfda-2ab16df62af4"
      },
      "execution_count": 17,
      "outputs": [
        {
          "output_type": "stream",
          "name": "stdout",
          "text": [
            "83     25.14925\n",
            "122    25.14925\n",
            "146    25.14925\n",
            "152    25.14925\n",
            "177    25.14925\n",
            "183    25.14925\n",
            "215    25.14925\n",
            "216    25.14925\n",
            "217    25.14925\n",
            "251    25.14925\n",
            "Name: Avg Max Wind Speed, dtype: float64\n"
          ]
        }
      ]
    },
    {
      "cell_type": "code",
      "source": [
        "print(df_original['Total Rainfall'].iloc[[24, 186, 216, 226, 262]])"
      ],
      "metadata": {
        "colab": {
          "base_uri": "https://localhost:8080/"
        },
        "id": "Ctk91J6tdtyA",
        "outputId": "366136a1-4733-4e45-96b9-af6ac690bee8"
      },
      "execution_count": 18,
      "outputs": [
        {
          "output_type": "stream",
          "name": "stdout",
          "text": [
            "24     4.8550\n",
            "186    5.1585\n",
            "216    6.1945\n",
            "226    5.0360\n",
            "262    5.0360\n",
            "Name: Total Rainfall, dtype: float64\n"
          ]
        }
      ]
    },
    {
      "cell_type": "code",
      "source": [
        "print(df_cleaned['Total Rainfall'].iloc[[24, 186, 216, 226, 262]])"
      ],
      "metadata": {
        "colab": {
          "base_uri": "https://localhost:8080/"
        },
        "id": "p2P2yLyxd7oJ",
        "outputId": "2eb79c54-744b-426b-d16f-6beb25383f16"
      },
      "execution_count": 19,
      "outputs": [
        {
          "output_type": "stream",
          "name": "stdout",
          "text": [
            "24     1.70725\n",
            "186    1.70725\n",
            "216    1.70725\n",
            "226    1.70725\n",
            "262    1.70725\n",
            "Name: Total Rainfall, dtype: float64\n"
          ]
        }
      ]
    },
    {
      "cell_type": "code",
      "source": [
        "print(df_original['Avg Dew Point'].iloc[[135, 166, 201]])"
      ],
      "metadata": {
        "colab": {
          "base_uri": "https://localhost:8080/"
        },
        "id": "7bV8owxjeIix",
        "outputId": "3a6763ba-8c92-4c52-ddf4-817d55c8149b"
      },
      "execution_count": 20,
      "outputs": [
        {
          "output_type": "stream",
          "name": "stdout",
          "text": [
            "135    26.8045\n",
            "166    26.8045\n",
            "201    42.0405\n",
            "Name: Avg Dew Point, dtype: float64\n"
          ]
        }
      ]
    },
    {
      "cell_type": "code",
      "source": [
        "print(df_cleaned['Avg Dew Point'].iloc[[135, 166, 201]])"
      ],
      "metadata": {
        "colab": {
          "base_uri": "https://localhost:8080/"
        },
        "id": "TQWmlbUQeTAJ",
        "outputId": "e30c9156-e6c1-47ba-9d4c-1332d23ab7cb"
      },
      "execution_count": 23,
      "outputs": [
        {
          "output_type": "stream",
          "name": "stdout",
          "text": [
            "135    34.6515\n",
            "166    34.6515\n",
            "201    34.6515\n",
            "Name: Avg Dew Point, dtype: float64\n"
          ]
        }
      ]
    }
  ]
}